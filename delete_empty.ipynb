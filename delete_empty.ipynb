{
  "nbformat": 4,
  "nbformat_minor": 0,
  "metadata": {
    "colab": {
      "name": "delete_empty.ipynb",
      "provenance": [],
      "collapsed_sections": [],
      "authorship_tag": "ABX9TyNr8K+6pOrUAcOSPXvsiGtm"
    },
    "kernelspec": {
      "name": "python3",
      "display_name": "Python 3"
    },
    "language_info": {
      "name": "python"
    }
  },
  "cells": [
    {
      "cell_type": "code",
      "metadata": {
        "id": "dUYJR6mRIrHZ"
      },
      "source": [
        "import os\n",
        "import matplotlib.pyplot as plt\n",
        "from google.colab.patches import cv2_imshow\n",
        "import cv2\n",
        "import xml.etree.ElementTree as ET\n"
      ],
      "execution_count": null,
      "outputs": []
    },
    {
      "cell_type": "code",
      "metadata": {
        "colab": {
          "base_uri": "https://localhost:8080/"
        },
        "id": "BAbKIcQHLF5D",
        "outputId": "75cddecd-a247-4a30-93c9-542ce8aee226"
      },
      "source": [
        "!wget https://transfer.sh/MPKcFj/task_26_8_locally-2021_08_31_19_41_29-pascal%20voc%201.1.zip"
      ],
      "execution_count": null,
      "outputs": [
        {
          "output_type": "stream",
          "name": "stdout",
          "text": [
            "--2021-08-31 21:45:27--  https://transfer.sh/MPKcFj/task_26_8_locally-2021_08_31_19_41_29-pascal%20voc%201.1.zip\n",
            "Resolving transfer.sh (transfer.sh)... 144.76.136.153\n",
            "Connecting to transfer.sh (transfer.sh)|144.76.136.153|:443... connected.\n",
            "HTTP request sent, awaiting response... 200 OK\n",
            "Length: 8502500452 (7.9G) [application/zip]\n",
            "Saving to: ‘task_26_8_locally-2021_08_31_19_41_29-pascal voc 1.1.zip’\n",
            "\n",
            "task_26_8_locally-2 100%[===================>]   7.92G  13.0MB/s    in 10m 39s \n",
            "\n",
            "2021-08-31 21:56:07 (12.7 MB/s) - ‘task_26_8_locally-2021_08_31_19_41_29-pascal voc 1.1.zip’ saved [8502500452/8502500452]\n",
            "\n"
          ]
        }
      ]
    },
    {
      "cell_type": "code",
      "metadata": {
        "id": "wPO5MWs8I0fT"
      },
      "source": [
        "!unzip /content/test26.zip -d /content/clear_out"
      ],
      "execution_count": null,
      "outputs": []
    },
    {
      "cell_type": "code",
      "metadata": {
        "id": "UcADAw2yI0dN"
      },
      "source": [
        "def delete_empty(xml_path,jpg_path):\n",
        "\n",
        "  # dir = []\n",
        "  dir = []\n",
        "  for file in os.listdir(xml_path):\n",
        "    if file.endswith(\".xml\"):\n",
        "      dir.append(file)\n",
        "\n",
        "\n",
        "  for el in dir:\n",
        "    tree = ET.parse(f'{xml_path}/{el}')\n",
        "    print(f'{xml_path}/{el}')\n",
        "    root = tree.getroot()\n",
        "    #filename = root.find('filename').text\n",
        "    \n",
        "    if len(root.findall('object'))==0:\n",
        "      os.remove(xml_path+'/'+el)\n",
        "      os.remove(jpg_path+'/'+el[:-3]+'jpg')"
      ],
      "execution_count": null,
      "outputs": []
    },
    {
      "cell_type": "code",
      "metadata": {
        "id": "sendEJTxI0Z1"
      },
      "source": [
        "xml_path = '/content/clear_out/Annotations/32-47_P2'\n",
        "jpg_path = '/content/clear_out/JPEGImages/32-47_P2'"
      ],
      "execution_count": null,
      "outputs": []
    },
    {
      "cell_type": "code",
      "metadata": {
        "id": "6eZkR2x1Rw9W"
      },
      "source": [
        "delete_empty(xml_path,jpg_path)"
      ],
      "execution_count": null,
      "outputs": []
    },
    {
      "cell_type": "code",
      "metadata": {
        "colab": {
          "base_uri": "https://localhost:8080/"
        },
        "id": "xrXRZKiRSCcI",
        "outputId": "30257fe3-c18c-44b4-9150-dab0fdb12bd9"
      },
      "source": [
        "dir = []\n",
        "for file in os.listdir(jpg_path):\n",
        "  if file.endswith(\".jpg\"):\n",
        "    dir.append(file)\n",
        "len(dir)"
      ],
      "execution_count": null,
      "outputs": [
        {
          "output_type": "execute_result",
          "data": {
            "text/plain": [
              "6770"
            ]
          },
          "metadata": {},
          "execution_count": 40
        }
      ]
    },
    {
      "cell_type": "code",
      "metadata": {
        "id": "bPzrycJWSSHc"
      },
      "source": [
        "!zip -r clear_32-47_P2.zip /content/clear_out"
      ],
      "execution_count": null,
      "outputs": []
    },
    {
      "cell_type": "code",
      "metadata": {
        "colab": {
          "base_uri": "https://localhost:8080/"
        },
        "id": "JFiV_HC5TPtK",
        "outputId": "46c93ad4-b62d-4ab4-cb72-f4f0900c4bd3"
      },
      "source": [
        "!curl --upload-file /content/clear_32-47_P2.zip https://transfer.sh/clear_32-47_P2.zip"
      ],
      "execution_count": null,
      "outputs": [
        {
          "output_type": "stream",
          "name": "stdout",
          "text": [
            "https://transfer.sh/a8ssq1/clear_32-47_P2.zip"
          ]
        }
      ]
    },
    {
      "cell_type": "code",
      "metadata": {
        "id": "hyI-yIJaTCz5"
      },
      "source": [
        ""
      ],
      "execution_count": null,
      "outputs": []
    }
  ]
}